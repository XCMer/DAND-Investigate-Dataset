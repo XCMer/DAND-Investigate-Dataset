{
 "cells": [
  {
   "cell_type": "markdown",
   "metadata": {
    "toc": "true"
   },
   "source": [
    " # Table of Contents\n",
    "<div class=\"toc\" style=\"margin-top: 1em;\"><ul class=\"toc-item\" id=\"toc-level0\"><li><span><a href=\"http://localhost:8888/notebooks/Analysis.ipynb#Dataset\" data-toc-modified-id=\"Dataset-1\"><span class=\"toc-item-num\">1&nbsp;&nbsp;</span>Dataset</a></span></li><li><span><a href=\"http://localhost:8888/notebooks/Analysis.ipynb#First-look-at-data\" data-toc-modified-id=\"First-look-at-data-2\"><span class=\"toc-item-num\">2&nbsp;&nbsp;</span>First look at data</a></span><ul class=\"toc-item\"><li><span><a href=\"http://localhost:8888/notebooks/Analysis.ipynb#Head\" data-toc-modified-id=\"Head-2.1\"><span class=\"toc-item-num\">2.1&nbsp;&nbsp;</span>Head</a></span></li><li><span><a href=\"http://localhost:8888/notebooks/Analysis.ipynb#Summary\" data-toc-modified-id=\"Summary-2.2\"><span class=\"toc-item-num\">2.2&nbsp;&nbsp;</span>Summary</a></span></li><li><span><a href=\"http://localhost:8888/notebooks/Analysis.ipynb#Missing-values\" data-toc-modified-id=\"Missing-values-2.3\"><span class=\"toc-item-num\">2.3&nbsp;&nbsp;</span>Missing values</a></span><ul class=\"toc-item\"><li><span><a href=\"http://localhost:8888/notebooks/Analysis.ipynb#Conclusion\" data-toc-modified-id=\"Conclusion-2.3.1\"><span class=\"toc-item-num\">2.3.1&nbsp;&nbsp;</span>Conclusion</a></span></li></ul></li></ul></li><li><span><a href=\"http://localhost:8888/notebooks/Analysis.ipynb#Exploration\" data-toc-modified-id=\"Exploration-3\"><span class=\"toc-item-num\">3&nbsp;&nbsp;</span>Exploration</a></span><ul class=\"toc-item\"><li><span><a href=\"http://localhost:8888/notebooks/Analysis.ipynb#Distribution-of-age\" data-toc-modified-id=\"Distribution-of-age-3.1\"><span class=\"toc-item-num\">3.1&nbsp;&nbsp;</span>Distribution of age</a></span><ul class=\"toc-item\"><li><span><a href=\"http://localhost:8888/notebooks/Analysis.ipynb#Observation\" data-toc-modified-id=\"Observation-3.1.1\"><span class=\"toc-item-num\">3.1.1&nbsp;&nbsp;</span>Observation</a></span></li></ul></li><li><span><a href=\"http://localhost:8888/notebooks/Analysis.ipynb#Distribution-of-survival\" data-toc-modified-id=\"Distribution-of-survival-3.2\"><span class=\"toc-item-num\">3.2&nbsp;&nbsp;</span>Distribution of survival</a></span><ul class=\"toc-item\"><li><span><a href=\"http://localhost:8888/notebooks/Analysis.ipynb#Observation\" data-toc-modified-id=\"Observation-3.2.1\"><span class=\"toc-item-num\">3.2.1&nbsp;&nbsp;</span>Observation</a></span></li></ul></li><li><span><a href=\"http://localhost:8888/notebooks/Analysis.ipynb#Distribution-of-passengers-amongst-classes\" data-toc-modified-id=\"Distribution-of-passengers-amongst-classes-3.3\"><span class=\"toc-item-num\">3.3&nbsp;&nbsp;</span>Distribution of passengers amongst classes</a></span><ul class=\"toc-item\"><li><span><a href=\"http://localhost:8888/notebooks/Analysis.ipynb#Observation\" data-toc-modified-id=\"Observation-3.3.1\"><span class=\"toc-item-num\">3.3.1&nbsp;&nbsp;</span>Observation</a></span></li></ul></li><li><span><a href=\"http://localhost:8888/notebooks/Analysis.ipynb#Distribution-of-age-within-each-Class\" data-toc-modified-id=\"Distribution-of-age-within-each-Class-3.4\"><span class=\"toc-item-num\">3.4&nbsp;&nbsp;</span>Distribution of age within each Class</a></span><ul class=\"toc-item\"><li><span><a href=\"http://localhost:8888/notebooks/Analysis.ipynb#Observation\" data-toc-modified-id=\"Observation-3.4.1\"><span class=\"toc-item-num\">3.4.1&nbsp;&nbsp;</span>Observation</a></span></li></ul></li><li><span><a href=\"http://localhost:8888/notebooks/Analysis.ipynb#Distribution-of-age-within-each-gender\" data-toc-modified-id=\"Distribution-of-age-within-each-gender-3.5\"><span class=\"toc-item-num\">3.5&nbsp;&nbsp;</span>Distribution of age within each gender</a></span><ul class=\"toc-item\"><li><span><a href=\"http://localhost:8888/notebooks/Analysis.ipynb#Observation\" data-toc-modified-id=\"Observation-3.5.1\"><span class=\"toc-item-num\">3.5.1&nbsp;&nbsp;</span>Observation</a></span></li></ul></li></ul></li><li><span><a href=\"http://localhost:8888/notebooks/Analysis.ipynb#Feature-transformations\" data-toc-modified-id=\"Feature-transformations-4\"><span class=\"toc-item-num\">4&nbsp;&nbsp;</span>Feature transformations</a></span><ul class=\"toc-item\"><li><span><a href=\"http://localhost:8888/notebooks/Analysis.ipynb#Add-HasFamily\" data-toc-modified-id=\"Add-HasFamily-4.1\"><span class=\"toc-item-num\">4.1&nbsp;&nbsp;</span>Add HasFamily</a></span></li><li><span><a href=\"http://localhost:8888/notebooks/Analysis.ipynb#Add-IsPclassUpper\" data-toc-modified-id=\"Add-IsPclassUpper-4.2\"><span class=\"toc-item-num\">4.2&nbsp;&nbsp;</span>Add IsPclassUpper</a></span></li><li><span><a href=\"http://localhost:8888/notebooks/Analysis.ipynb#Add-AgeDecade\" data-toc-modified-id=\"Add-AgeDecade-4.3\"><span class=\"toc-item-num\">4.3&nbsp;&nbsp;</span>Add AgeDecade</a></span></li></ul></li><li><span><a href=\"http://localhost:8888/notebooks/Analysis.ipynb#Post-transformed-data\" data-toc-modified-id=\"Post-transformed-data-5\"><span class=\"toc-item-num\">5&nbsp;&nbsp;</span>Post-transformed data</a></span></li><li><span><a href=\"http://localhost:8888/notebooks/Analysis.ipynb#Questions\" data-toc-modified-id=\"Questions-6\"><span class=\"toc-item-num\">6&nbsp;&nbsp;</span>Questions</a></span><ul class=\"toc-item\"><li><span><a href=\"http://localhost:8888/notebooks/Analysis.ipynb#Does-age-influence-your-survival-chances?\" data-toc-modified-id=\"Does-age-influence-your-survival-chances?-6.1\"><span class=\"toc-item-num\">6.1&nbsp;&nbsp;</span>Does age influence your survival chances?</a></span><ul class=\"toc-item\"><li><span><a href=\"http://localhost:8888/notebooks/Analysis.ipynb#Conclusion\" data-toc-modified-id=\"Conclusion-6.1.1\"><span class=\"toc-item-num\">6.1.1&nbsp;&nbsp;</span>Conclusion</a></span></li></ul></li><li><span><a href=\"http://localhost:8888/notebooks/Analysis.ipynb#Is-the-survival-rate-of-men-&amp;-women-disproprotionate?\" data-toc-modified-id=\"Is-the-survival-rate-of-men-&amp;-women-disproprotionate?-6.2\"><span class=\"toc-item-num\">6.2&nbsp;&nbsp;</span>Is the survival rate of men &amp; women disproprotionate?</a></span><ul class=\"toc-item\"><li><span><a href=\"http://localhost:8888/notebooks/Analysis.ipynb#Conclusion\" data-toc-modified-id=\"Conclusion-6.2.1\"><span class=\"toc-item-num\">6.2.1&nbsp;&nbsp;</span>Conclusion</a></span></li></ul></li><li><span><a href=\"http://localhost:8888/notebooks/Analysis.ipynb#Does-being-in-the-upper-socio-economic-status-(SES)-increase-survival-chances,-because-of-some-additional-privileges/facilities-given-to-them?\" data-toc-modified-id=\"Does-being-in-the-upper-socio-economic-status-(SES)-increase-survival-chances,-because-of-some-additional-privileges/facilities-given-to-them?-6.3\"><span class=\"toc-item-num\">6.3&nbsp;&nbsp;</span>Does being in the upper socio-economic status (SES) increase survival chances, because of some additional privileges/facilities given to them?</a></span><ul class=\"toc-item\"><li><span><a href=\"http://localhost:8888/notebooks/Analysis.ipynb#Conclusion\" data-toc-modified-id=\"Conclusion-6.3.1\"><span class=\"toc-item-num\">6.3.1&nbsp;&nbsp;</span>Conclusion</a></span></li></ul></li><li><span><a href=\"http://localhost:8888/notebooks/Analysis.ipynb#Are-survival-rates-of-females-(which-we-established-were-higher-than-males)-similar-between-upper-and-non-upper-class-passengers?\" data-toc-modified-id=\"Are-survival-rates-of-females-(which-we-established-were-higher-than-males)-similar-between-upper-and-non-upper-class-passengers?-6.4\"><span class=\"toc-item-num\">6.4&nbsp;&nbsp;</span>Are survival rates of females (which we established were higher than males) similar between upper and non-upper class passengers?</a></span><ul class=\"toc-item\"><li><span><a href=\"http://localhost:8888/notebooks/Analysis.ipynb#Conclusion\" data-toc-modified-id=\"Conclusion-6.4.1\"><span class=\"toc-item-num\">6.4.1&nbsp;&nbsp;</span>Conclusion</a></span></li></ul></li><li><span><a href=\"http://localhost:8888/notebooks/Analysis.ipynb#Does-being-alone-increase-your-chance-of-survival?\" data-toc-modified-id=\"Does-being-alone-increase-your-chance-of-survival?-6.5\"><span class=\"toc-item-num\">6.5&nbsp;&nbsp;</span>Does being alone increase your chance of survival?</a></span></li><li><span><a href=\"http://localhost:8888/notebooks/Analysis.ipynb#Conclusion\" data-toc-modified-id=\"Conclusion-6.6\"><span class=\"toc-item-num\">6.6&nbsp;&nbsp;</span>Conclusion</a></span></li><li><span><a href=\"http://localhost:8888/notebooks/Analysis.ipynb#What-was-the-survival-rate-of-people-with-children?-What-if-you-had-a-sibling?\" data-toc-modified-id=\"What-was-the-survival-rate-of-people-with-children?-What-if-you-had-a-sibling?-6.7\"><span class=\"toc-item-num\">6.7&nbsp;&nbsp;</span>What was the survival rate of people with children? What if you had a sibling?</a></span><ul class=\"toc-item\"><li><span><a href=\"http://localhost:8888/notebooks/Analysis.ipynb#Conclusion\" data-toc-modified-id=\"Conclusion-6.7.1\"><span class=\"toc-item-num\">6.7.1&nbsp;&nbsp;</span>Conclusion</a></span></li><li><span><a href=\"http://localhost:8888/notebooks/Analysis.ipynb#Conclusion\" data-toc-modified-id=\"Conclusion-6.7.2\"><span class=\"toc-item-num\">6.7.2&nbsp;&nbsp;</span>Conclusion</a></span></li></ul></li><li><span><a href=\"http://localhost:8888/notebooks/Analysis.ipynb#Did-female-siblings-survive-more-than-male-siblings?\" data-toc-modified-id=\"Did-female-siblings-survive-more-than-male-siblings?-6.8\"><span class=\"toc-item-num\">6.8&nbsp;&nbsp;</span>Did female siblings survive more than male siblings?</a></span><ul class=\"toc-item\"><li><span><a href=\"http://localhost:8888/notebooks/Analysis.ipynb#Conclusion\" data-toc-modified-id=\"Conclusion-6.8.1\"><span class=\"toc-item-num\">6.8.1&nbsp;&nbsp;</span>Conclusion</a></span></li></ul></li></ul></li><li><span><a href=\"http://localhost:8888/notebooks/Analysis.ipynb#Final-Conclusion\" data-toc-modified-id=\"Final-Conclusion-7\"><span class=\"toc-item-num\">7&nbsp;&nbsp;</span>Final Conclusion</a></span><ul class=\"toc-item\"><li><span><a href=\"http://localhost:8888/notebooks/Analysis.ipynb#Limitations\" data-toc-modified-id=\"Limitations-7.1\"><span class=\"toc-item-num\">7.1&nbsp;&nbsp;</span>Limitations</a></span><ul class=\"toc-item\"><li><span><a href=\"http://localhost:8888/notebooks/Analysis.ipynb#Total-no.-of-observations\" data-toc-modified-id=\"Total-no.-of-observations-7.1.1\"><span class=\"toc-item-num\">7.1.1&nbsp;&nbsp;</span>Total no. of observations</a></span></li><li><span><a href=\"http://localhost:8888/notebooks/Analysis.ipynb#No.-of-children,-No.-of-parents-separetely\" data-toc-modified-id=\"No.-of-children,-No.-of-parents-separetely-7.1.2\"><span class=\"toc-item-num\">7.1.2&nbsp;&nbsp;</span>No. of children, No. of parents separetely</a></span></li><li><span><a href=\"http://localhost:8888/notebooks/Analysis.ipynb#Missing-observations-on-Age\" data-toc-modified-id=\"Missing-observations-on-Age-7.1.3\"><span class=\"toc-item-num\">7.1.3&nbsp;&nbsp;</span>Missing observations on Age</a></span></li></ul></li></ul></li></ul></div>"
   ]
  },
  {
   "cell_type": "code",
   "execution_count": 164,
   "metadata": {
    "collapsed": true
   },
   "outputs": [],
   "source": [
    "import pandas as pd\n",
    "import matplotlib.pyplot as plt\n",
    "import seaborn as sns\n",
    "import math\n",
    "import numpy as np\n",
    "\n",
    "%matplotlib inline"
   ]
  },
  {
   "cell_type": "markdown",
   "metadata": {},
   "source": [
    "## Dataset"
   ]
  },
  {
   "cell_type": "code",
   "execution_count": 110,
   "metadata": {
    "collapsed": true
   },
   "outputs": [],
   "source": [
    "titanic = pd.read_csv('./titanic-data.csv')"
   ]
  },
  {
   "cell_type": "markdown",
   "metadata": {},
   "source": [
    "## First look at data"
   ]
  },
  {
   "cell_type": "markdown",
   "metadata": {},
   "source": [
    "### Head"
   ]
  },
  {
   "cell_type": "code",
   "execution_count": 111,
   "metadata": {},
   "outputs": [
    {
     "data": {
      "text/html": [
       "<div>\n",
       "<style>\n",
       "    .dataframe thead tr:only-child th {\n",
       "        text-align: right;\n",
       "    }\n",
       "\n",
       "    .dataframe thead th {\n",
       "        text-align: left;\n",
       "    }\n",
       "\n",
       "    .dataframe tbody tr th {\n",
       "        vertical-align: top;\n",
       "    }\n",
       "</style>\n",
       "<table border=\"1\" class=\"dataframe\">\n",
       "  <thead>\n",
       "    <tr style=\"text-align: right;\">\n",
       "      <th></th>\n",
       "      <th>PassengerId</th>\n",
       "      <th>Survived</th>\n",
       "      <th>Pclass</th>\n",
       "      <th>Name</th>\n",
       "      <th>Sex</th>\n",
       "      <th>Age</th>\n",
       "      <th>SibSp</th>\n",
       "      <th>Parch</th>\n",
       "      <th>Ticket</th>\n",
       "      <th>Fare</th>\n",
       "      <th>Cabin</th>\n",
       "      <th>Embarked</th>\n",
       "    </tr>\n",
       "  </thead>\n",
       "  <tbody>\n",
       "    <tr>\n",
       "      <th>0</th>\n",
       "      <td>1</td>\n",
       "      <td>0</td>\n",
       "      <td>3</td>\n",
       "      <td>Braund, Mr. Owen Harris</td>\n",
       "      <td>male</td>\n",
       "      <td>22.0</td>\n",
       "      <td>1</td>\n",
       "      <td>0</td>\n",
       "      <td>A/5 21171</td>\n",
       "      <td>7.2500</td>\n",
       "      <td>NaN</td>\n",
       "      <td>S</td>\n",
       "    </tr>\n",
       "    <tr>\n",
       "      <th>1</th>\n",
       "      <td>2</td>\n",
       "      <td>1</td>\n",
       "      <td>1</td>\n",
       "      <td>Cumings, Mrs. John Bradley (Florence Briggs Th...</td>\n",
       "      <td>female</td>\n",
       "      <td>38.0</td>\n",
       "      <td>1</td>\n",
       "      <td>0</td>\n",
       "      <td>PC 17599</td>\n",
       "      <td>71.2833</td>\n",
       "      <td>C85</td>\n",
       "      <td>C</td>\n",
       "    </tr>\n",
       "    <tr>\n",
       "      <th>2</th>\n",
       "      <td>3</td>\n",
       "      <td>1</td>\n",
       "      <td>3</td>\n",
       "      <td>Heikkinen, Miss. Laina</td>\n",
       "      <td>female</td>\n",
       "      <td>26.0</td>\n",
       "      <td>0</td>\n",
       "      <td>0</td>\n",
       "      <td>STON/O2. 3101282</td>\n",
       "      <td>7.9250</td>\n",
       "      <td>NaN</td>\n",
       "      <td>S</td>\n",
       "    </tr>\n",
       "    <tr>\n",
       "      <th>3</th>\n",
       "      <td>4</td>\n",
       "      <td>1</td>\n",
       "      <td>1</td>\n",
       "      <td>Futrelle, Mrs. Jacques Heath (Lily May Peel)</td>\n",
       "      <td>female</td>\n",
       "      <td>35.0</td>\n",
       "      <td>1</td>\n",
       "      <td>0</td>\n",
       "      <td>113803</td>\n",
       "      <td>53.1000</td>\n",
       "      <td>C123</td>\n",
       "      <td>S</td>\n",
       "    </tr>\n",
       "    <tr>\n",
       "      <th>4</th>\n",
       "      <td>5</td>\n",
       "      <td>0</td>\n",
       "      <td>3</td>\n",
       "      <td>Allen, Mr. William Henry</td>\n",
       "      <td>male</td>\n",
       "      <td>35.0</td>\n",
       "      <td>0</td>\n",
       "      <td>0</td>\n",
       "      <td>373450</td>\n",
       "      <td>8.0500</td>\n",
       "      <td>NaN</td>\n",
       "      <td>S</td>\n",
       "    </tr>\n",
       "  </tbody>\n",
       "</table>\n",
       "</div>"
      ],
      "text/plain": [
       "   PassengerId  Survived  Pclass  \\\n",
       "0            1         0       3   \n",
       "1            2         1       1   \n",
       "2            3         1       3   \n",
       "3            4         1       1   \n",
       "4            5         0       3   \n",
       "\n",
       "                                                Name     Sex   Age  SibSp  \\\n",
       "0                            Braund, Mr. Owen Harris    male  22.0      1   \n",
       "1  Cumings, Mrs. John Bradley (Florence Briggs Th...  female  38.0      1   \n",
       "2                             Heikkinen, Miss. Laina  female  26.0      0   \n",
       "3       Futrelle, Mrs. Jacques Heath (Lily May Peel)  female  35.0      1   \n",
       "4                           Allen, Mr. William Henry    male  35.0      0   \n",
       "\n",
       "   Parch            Ticket     Fare Cabin Embarked  \n",
       "0      0         A/5 21171   7.2500   NaN        S  \n",
       "1      0          PC 17599  71.2833   C85        C  \n",
       "2      0  STON/O2. 3101282   7.9250   NaN        S  \n",
       "3      0            113803  53.1000  C123        S  \n",
       "4      0            373450   8.0500   NaN        S  "
      ]
     },
     "execution_count": 111,
     "metadata": {},
     "output_type": "execute_result"
    }
   ],
   "source": [
    "titanic.head()"
   ]
  },
  {
   "cell_type": "markdown",
   "metadata": {},
   "source": [
    "### Summary"
   ]
  },
  {
   "cell_type": "code",
   "execution_count": 4,
   "metadata": {},
   "outputs": [
    {
     "data": {
      "text/html": [
       "<div>\n",
       "<style>\n",
       "    .dataframe thead tr:only-child th {\n",
       "        text-align: right;\n",
       "    }\n",
       "\n",
       "    .dataframe thead th {\n",
       "        text-align: left;\n",
       "    }\n",
       "\n",
       "    .dataframe tbody tr th {\n",
       "        vertical-align: top;\n",
       "    }\n",
       "</style>\n",
       "<table border=\"1\" class=\"dataframe\">\n",
       "  <thead>\n",
       "    <tr style=\"text-align: right;\">\n",
       "      <th></th>\n",
       "      <th>PassengerId</th>\n",
       "      <th>Survived</th>\n",
       "      <th>Pclass</th>\n",
       "      <th>Age</th>\n",
       "      <th>SibSp</th>\n",
       "      <th>Parch</th>\n",
       "      <th>Fare</th>\n",
       "    </tr>\n",
       "  </thead>\n",
       "  <tbody>\n",
       "    <tr>\n",
       "      <th>count</th>\n",
       "      <td>891.000000</td>\n",
       "      <td>891.000000</td>\n",
       "      <td>891.000000</td>\n",
       "      <td>714.000000</td>\n",
       "      <td>891.000000</td>\n",
       "      <td>891.000000</td>\n",
       "      <td>891.000000</td>\n",
       "    </tr>\n",
       "    <tr>\n",
       "      <th>mean</th>\n",
       "      <td>446.000000</td>\n",
       "      <td>0.383838</td>\n",
       "      <td>2.308642</td>\n",
       "      <td>29.699118</td>\n",
       "      <td>0.523008</td>\n",
       "      <td>0.381594</td>\n",
       "      <td>32.204208</td>\n",
       "    </tr>\n",
       "    <tr>\n",
       "      <th>std</th>\n",
       "      <td>257.353842</td>\n",
       "      <td>0.486592</td>\n",
       "      <td>0.836071</td>\n",
       "      <td>14.526497</td>\n",
       "      <td>1.102743</td>\n",
       "      <td>0.806057</td>\n",
       "      <td>49.693429</td>\n",
       "    </tr>\n",
       "    <tr>\n",
       "      <th>min</th>\n",
       "      <td>1.000000</td>\n",
       "      <td>0.000000</td>\n",
       "      <td>1.000000</td>\n",
       "      <td>0.420000</td>\n",
       "      <td>0.000000</td>\n",
       "      <td>0.000000</td>\n",
       "      <td>0.000000</td>\n",
       "    </tr>\n",
       "    <tr>\n",
       "      <th>25%</th>\n",
       "      <td>223.500000</td>\n",
       "      <td>0.000000</td>\n",
       "      <td>2.000000</td>\n",
       "      <td>20.125000</td>\n",
       "      <td>0.000000</td>\n",
       "      <td>0.000000</td>\n",
       "      <td>7.910400</td>\n",
       "    </tr>\n",
       "    <tr>\n",
       "      <th>50%</th>\n",
       "      <td>446.000000</td>\n",
       "      <td>0.000000</td>\n",
       "      <td>3.000000</td>\n",
       "      <td>28.000000</td>\n",
       "      <td>0.000000</td>\n",
       "      <td>0.000000</td>\n",
       "      <td>14.454200</td>\n",
       "    </tr>\n",
       "    <tr>\n",
       "      <th>75%</th>\n",
       "      <td>668.500000</td>\n",
       "      <td>1.000000</td>\n",
       "      <td>3.000000</td>\n",
       "      <td>38.000000</td>\n",
       "      <td>1.000000</td>\n",
       "      <td>0.000000</td>\n",
       "      <td>31.000000</td>\n",
       "    </tr>\n",
       "    <tr>\n",
       "      <th>max</th>\n",
       "      <td>891.000000</td>\n",
       "      <td>1.000000</td>\n",
       "      <td>3.000000</td>\n",
       "      <td>80.000000</td>\n",
       "      <td>8.000000</td>\n",
       "      <td>6.000000</td>\n",
       "      <td>512.329200</td>\n",
       "    </tr>\n",
       "  </tbody>\n",
       "</table>\n",
       "</div>"
      ],
      "text/plain": [
       "       PassengerId    Survived      Pclass         Age       SibSp  \\\n",
       "count   891.000000  891.000000  891.000000  714.000000  891.000000   \n",
       "mean    446.000000    0.383838    2.308642   29.699118    0.523008   \n",
       "std     257.353842    0.486592    0.836071   14.526497    1.102743   \n",
       "min       1.000000    0.000000    1.000000    0.420000    0.000000   \n",
       "25%     223.500000    0.000000    2.000000   20.125000    0.000000   \n",
       "50%     446.000000    0.000000    3.000000   28.000000    0.000000   \n",
       "75%     668.500000    1.000000    3.000000   38.000000    1.000000   \n",
       "max     891.000000    1.000000    3.000000   80.000000    8.000000   \n",
       "\n",
       "            Parch        Fare  \n",
       "count  891.000000  891.000000  \n",
       "mean     0.381594   32.204208  \n",
       "std      0.806057   49.693429  \n",
       "min      0.000000    0.000000  \n",
       "25%      0.000000    7.910400  \n",
       "50%      0.000000   14.454200  \n",
       "75%      0.000000   31.000000  \n",
       "max      6.000000  512.329200  "
      ]
     },
     "execution_count": 4,
     "metadata": {},
     "output_type": "execute_result"
    }
   ],
   "source": [
    "titanic.describe()"
   ]
  },
  {
   "cell_type": "markdown",
   "metadata": {},
   "source": [
    "### Missing values"
   ]
  },
  {
   "cell_type": "code",
   "execution_count": 210,
   "metadata": {
    "collapsed": true
   },
   "outputs": [],
   "source": [
    "# You'll see this code pattern throughout the notebook. I save the\n",
    "# plot object in a variable, which allows me to set labelling for the plot.\n",
    "# I refactored this into a function to keep the notebook short.\n",
    "def plot_with_labels(plot, xlabel=None, ylabel=None, legend=None, title=None):\n",
    "    if title is not None:\n",
    "        plot.set_title(title)\n",
    "    \n",
    "    if xlabel is not None:\n",
    "        plot.set_xlabel(xlabel)\n",
    "\n",
    "    if ylabel is not None:\n",
    "        plot.set_ylabel(ylabel)\n",
    "        \n",
    "    if legend is not None:\n",
    "        plot.legend(legend)\n",
    "    \n",
    "    return plot"
   ]
  },
  {
   "cell_type": "code",
   "execution_count": 204,
   "metadata": {},
   "outputs": [
    {
     "data": {
      "text/plain": [
       "<matplotlib.axes._subplots.AxesSubplot at 0x12de4c710>"
      ]
     },
     "execution_count": 204,
     "metadata": {},
     "output_type": "execute_result"
    },
    {
     "data": {
      "image/png": "[encoded data removed]",
      "text/plain": [
       "<matplotlib.figure.Figure at 0x12df8a610>"
      ]
     },
     "metadata": {},
     "output_type": "display_data"
    }
   ],
   "source": [
    "plot_with_labels(\n",
    "    titanic.count().plot(kind='bar'),\n",
    "    xlabel='Fields present in the dataset',\n",
    "    ylabel='No. of values present (count)'\n",
    ")"
   ]
  },
  {
   "cell_type": "code",
   "execution_count": 112,
   "metadata": {},
   "outputs": [
    {
     "data": {
      "text/plain": [
       "PassengerId      0\n",
       "Survived         0\n",
       "Pclass           0\n",
       "Name             0\n",
       "Sex              0\n",
       "Age            177\n",
       "SibSp            0\n",
       "Parch            0\n",
       "Ticket           0\n",
       "Fare             0\n",
       "Cabin          687\n",
       "Embarked         2\n",
       "dtype: int64"
      ]
     },
     "execution_count": 112,
     "metadata": {},
     "output_type": "execute_result"
    }
   ],
   "source": [
    "titanic.isnull().sum()"
   ]
  },
  {
   "cell_type": "markdown",
   "metadata": {},
   "source": [
    "1. Cabin has 687 missing values. It's difficult to perform any analysis using this column.\n",
    "1. Age has 177 missing values. But the majority of the data do have values, and we can perform some analysis.\n",
    "1. Embarked has only 2 missing values. This column can be used for analysis.\n",
    "\n",
    "#### Conclusion\n",
    "\n",
    "1. I'll use the remaining values of Age in my analysis, while not taking into account the NAs. We have 714 values for Age, which I consider enough to give a statistical insight, and we'll base all the analysis only on those 714 values. Wherever age is analysed, we'll only consider rows where age is present.\n",
    "1. I will not be using Cabin for analysis, since it has 687 missing values, and there is not enough data to be of statistical significance.\n",
    "1. Embarked can still be used for analysis. The two missing values will be ignored from all the analyses, and we'll only work with 889 values."
   ]
  },
  {
   "cell_type": "markdown",
   "metadata": {},
   "source": [
    "## Exploration"
   ]
  },
  {
   "cell_type": "markdown",
   "metadata": {},
   "source": [
    "### Distribution of age"
   ]
  },
  {
   "cell_type": "code",
   "execution_count": 234,
   "metadata": {},
   "outputs": [
    {
     "data": {
      "text/plain": [
       "<matplotlib.axes._subplots.AxesSubplot at 0x12fa31950>"
      ]
     },
     "execution_count": 234,
     "metadata": {},
     "output_type": "execute_result"
    },
    {
     "data": {
      "image/png": "[encoded data removed]",
      "text/plain": [
       "<matplotlib.figure.Figure at 0x12fdf9a90>"
      ]
     },
     "metadata": {},
     "output_type": "display_data"
    }
   ],
   "source": [
    "plot_with_labels(\n",
    "    titanic[titanic['Age'].notnull()]['Age'].plot(kind='hist', bins=30),\n",
    "    xlabel='Age in years',\n",
    "    ylabel='No. of passengers',\n",
    "    title='No. of passengers for each age in years'\n",
    ")"
   ]
  },
  {
   "cell_type": "markdown",
   "metadata": {},
   "source": [
    "#### Observation\n",
    "\n",
    "1. We observe a lot of middle-aged people.\n",
    "1. The distribution is positively skewed. Thus the majority of the crowd are at the younger side of the distribution."
   ]
  },
  {
   "cell_type": "markdown",
   "metadata": {},
   "source": [
    "### Distribution of survival"
   ]
  },
  {
   "cell_type": "code",
   "execution_count": 235,
   "metadata": {},
   "outputs": [
    {
     "data": {
      "text/plain": [
       "<matplotlib.axes._subplots.AxesSubplot at 0x130213a50>"
      ]
     },
     "execution_count": 235,
     "metadata": {},
     "output_type": "execute_result"
    },
    {
     "data": {
      "image/png": "[encoded data removed]",
      "text/plain": [
       "<matplotlib.figure.Figure at 0x130225610>"
      ]
     },
     "metadata": {},
     "output_type": "display_data"
    }
   ],
   "source": [
    "plot_with_labels(\n",
    "    titanic.groupby('Survived').agg({'Survived': 'count'}).plot(kind='bar'),\n",
    "    xlabel='Not survived = 0, Survived = 1',\n",
    "    ylabel='No. of passengers',\n",
    "    legend='',\n",
    "    title='No. of passengers who survived vs. who didn\\'t'\n",
    ")"
   ]
  },
  {
   "cell_type": "code",
   "execution_count": 139,
   "metadata": {},
   "outputs": [
    {
     "data": {
      "text/html": [
       "<div>\n",
       "<style>\n",
       "    .dataframe thead tr:only-child th {\n",
       "        text-align: right;\n",
       "    }\n",
       "\n",
       "    .dataframe thead th {\n",
       "        text-align: left;\n",
       "    }\n",
       "\n",
       "    .dataframe tbody tr th {\n",
       "        vertical-align: top;\n",
       "    }\n",
       "</style>\n",
       "<table border=\"1\" class=\"dataframe\">\n",
       "  <thead>\n",
       "    <tr style=\"text-align: right;\">\n",
       "      <th></th>\n",
       "      <th>Survived</th>\n",
       "    </tr>\n",
       "    <tr>\n",
       "      <th>Survived</th>\n",
       "      <th></th>\n",
       "    </tr>\n",
       "  </thead>\n",
       "  <tbody>\n",
       "    <tr>\n",
       "      <th>0</th>\n",
       "      <td>549</td>\n",
       "    </tr>\n",
       "    <tr>\n",
       "      <th>1</th>\n",
       "      <td>342</td>\n",
       "    </tr>\n",
       "  </tbody>\n",
       "</table>\n",
       "</div>"
      ],
      "text/plain": [
       "          Survived\n",
       "Survived          \n",
       "0              549\n",
       "1              342"
      ]
     },
     "execution_count": 139,
     "metadata": {},
     "output_type": "execute_result"
    }
   ],
   "source": [
    "titanic.groupby('Survived').agg({'Survived': 'count'})"
   ]
  },
  {
   "cell_type": "markdown",
   "metadata": {},
   "source": [
    "#### Observation\n",
    "\n",
    "1. There are more non-survivors (549) than survivors (342)."
   ]
  },
  {
   "cell_type": "markdown",
   "metadata": {},
   "source": [
    "### Distribution of passengers amongst classes"
   ]
  },
  {
   "cell_type": "code",
   "execution_count": 236,
   "metadata": {},
   "outputs": [
    {
     "data": {
      "text/plain": [
       "<matplotlib.axes._subplots.AxesSubplot at 0x12ff9fcd0>"
      ]
     },
     "execution_count": 236,
     "metadata": {},
     "output_type": "execute_result"
    },
    {
     "data": {
      "image/png": "[encoded data removed]",
      "text/plain": [
       "<matplotlib.figure.Figure at 0x130340350>"
      ]
     },
     "metadata": {},
     "output_type": "display_data"
    }
   ],
   "source": [
    "plot_with_labels(\n",
    "    titanic.groupby('Pclass').agg({'Pclass': 'count'}).plot(kind='bar'),\n",
    "    xlabel='Class of the ticket',\n",
    "    ylabel='No. of passengers',\n",
    "    legend='',\n",
    "    title='No. of passengers who survived per class of the ticket'\n",
    ")"
   ]
  },
  {
   "cell_type": "code",
   "execution_count": 141,
   "metadata": {},
   "outputs": [
    {
     "data": {
      "text/html": [
       "<div>\n",
       "<style>\n",
       "    .dataframe thead tr:only-child th {\n",
       "        text-align: right;\n",
       "    }\n",
       "\n",
       "    .dataframe thead th {\n",
       "        text-align: left;\n",
       "    }\n",
       "\n",
       "    .dataframe tbody tr th {\n",
       "        vertical-align: top;\n",
       "    }\n",
       "</style>\n",
       "<table border=\"1\" class=\"dataframe\">\n",
       "  <thead>\n",
       "    <tr style=\"text-align: right;\">\n",
       "      <th></th>\n",
       "      <th>Pclass</th>\n",
       "    </tr>\n",
       "    <tr>\n",
       "      <th>Pclass</th>\n",
       "      <th></th>\n",
       "    </tr>\n",
       "  </thead>\n",
       "  <tbody>\n",
       "    <tr>\n",
       "      <th>1</th>\n",
       "      <td>216</td>\n",
       "    </tr>\n",
       "    <tr>\n",
       "      <th>2</th>\n",
       "      <td>184</td>\n",
       "    </tr>\n",
       "    <tr>\n",
       "      <th>3</th>\n",
       "      <td>491</td>\n",
       "    </tr>\n",
       "  </tbody>\n",
       "</table>\n",
       "</div>"
      ],
      "text/plain": [
       "        Pclass\n",
       "Pclass        \n",
       "1          216\n",
       "2          184\n",
       "3          491"
      ]
     },
     "execution_count": 141,
     "metadata": {},
     "output_type": "execute_result"
    }
   ],
   "source": [
    "titanic.groupby('Pclass').agg({'Pclass': 'count'})"
   ]
  },
  {
   "cell_type": "markdown",
   "metadata": {},
   "source": [
    "#### Observation\n",
    "\n",
    "1. Class 2 has the lowest number of passengers\n",
    "1. Bulk of the passengers are from Class 3"
   ]
  },
  {
   "cell_type": "markdown",
   "metadata": {},
   "source": [
    "### Distribution of age within each Class"
   ]
  },
  {
   "cell_type": "code",
   "execution_count": 238,
   "metadata": {},
   "outputs": [
    {
     "data": {
      "text/plain": [
       "<matplotlib.axes._subplots.AxesSubplot at 0x13038c490>"
      ]
     },
     "execution_count": 238,
     "metadata": {},
     "output_type": "execute_result"
    },
    {
     "data": {
      "image/png": "[encoded data removed]",
      "text/plain": [
       "<matplotlib.figure.Figure at 0x130362950>"
      ]
     },
     "metadata": {},
     "output_type": "display_data"
    }
   ],
   "source": [
    "plot_with_labels(\n",
    "    titanic[titanic['Age'].notnull()].boxplot(column='Age', by='Pclass'),\n",
    "    title='Distribution of age per class of ticket',\n",
    "    xlabel='Class of the ticket',\n",
    "    ylabel='Age in years'\n",
    ")"
   ]
  },
  {
   "cell_type": "markdown",
   "metadata": {},
   "source": [
    "#### Observation\n",
    "\n",
    "1. 75% of the Class 1 passengers have an age >= 28 years. Class 1 passengers have the highest median age.\n",
    "1. Class 2 passengers have a median age less than Class 1 but more than Class 2.\n",
    "1. Class 3 passengers have the lowest median age.\n",
    "\n",
    "There is a correlation between Pclass and Age of the passengers. If Pclass is assumed to represent the purchasing power of the passengers, then we can say that there is a correlation between Age and Wealth of the passengers."
   ]
  },
  {
   "cell_type": "markdown",
   "metadata": {},
   "source": [
    "### Distribution of age within each gender"
   ]
  },
  {
   "cell_type": "code",
   "execution_count": 239,
   "metadata": {},
   "outputs": [
    {
     "data": {
      "text/plain": [
       "<matplotlib.axes._subplots.AxesSubplot at 0x1304cbb50>"
      ]
     },
     "execution_count": 239,
     "metadata": {},
     "output_type": "execute_result"
    },
    {
     "data": {
      "image/png": "[encoded data removed]",
      "text/plain": [
       "<matplotlib.figure.Figure at 0x1305ecad0>"
      ]
     },
     "metadata": {},
     "output_type": "display_data"
    }
   ],
   "source": [
    "plot_with_labels(\n",
    "    titanic[titanic['Age'].notnull()].boxplot(column='Age', by='Sex'),\n",
    "    title='Distribution of age of passengers by gender',\n",
    "    xlabel='Gender',\n",
    "    ylabel='Age in years'\n",
    ")"
   ]
  },
  {
   "cell_type": "markdown",
   "metadata": {},
   "source": [
    "#### Observation\n",
    "\n",
    "1. Men have a higher median age than females.\n",
    "1. Although there appears to be no one below the age of 15, we do have 177 Age records missing."
   ]
  },
  {
   "cell_type": "markdown",
   "metadata": {},
   "source": [
    "## Feature transformations\n",
    "\n",
    "Additional features would go here as additional columns. This section is placed higher so that the new columns can be used by any code below."
   ]
  },
  {
   "cell_type": "markdown",
   "metadata": {},
   "source": [
    "### Add HasFamily\n",
    "\n",
    "Combining Parch and SibSp, let's create a new variable HasFamily which will be True if either Parch or SibSp has a value greater than 0"
   ]
  },
  {
   "cell_type": "code",
   "execution_count": 182,
   "metadata": {},
   "outputs": [],
   "source": [
    "titanic['HasFamily'] = (titanic['SibSp'] > 0) | (titanic['Parch'] > 0)"
   ]
  },
  {
   "cell_type": "markdown",
   "metadata": {},
   "source": [
    "### Add IsPclassUpper\n",
    "\n",
    "This column would indicate if Pclass has a value of 1."
   ]
  },
  {
   "cell_type": "code",
   "execution_count": 181,
   "metadata": {
    "collapsed": true
   },
   "outputs": [],
   "source": [
    "titanic['IsPclassUpper'] = (titanic['Pclass'] == 1)"
   ]
  },
  {
   "cell_type": "markdown",
   "metadata": {},
   "source": [
    "### Add AgeDecade\n",
    "\n",
    "Right now, age is a continuous variable. We'll add a new column called \"AgeDecade\" where we group ages in bins of 10 years. For example:\n",
    "\n",
    "1. 0 to 9 would have AgeDecade value 0\n",
    "1. 10 to 19 would have a value of 1\n",
    "1. Basically, the formula is floor(Age/10)"
   ]
  },
  {
   "cell_type": "code",
   "execution_count": 167,
   "metadata": {},
   "outputs": [],
   "source": [
    "titanic['AgeDecade'] = np.floor(titanic['Age'].divide(10.0))"
   ]
  },
  {
   "cell_type": "markdown",
   "metadata": {},
   "source": [
    "## Post-transformed data\n",
    "\n",
    "A view of the data post all transformations."
   ]
  },
  {
   "cell_type": "code",
   "execution_count": 168,
   "metadata": {},
   "outputs": [
    {
     "data": {
      "text/html": [
       "<div>\n",
       "<style>\n",
       "    .dataframe thead tr:only-child th {\n",
       "        text-align: right;\n",
       "    }\n",
       "\n",
       "    .dataframe thead th {\n",
       "        text-align: left;\n",
       "    }\n",
       "\n",
       "    .dataframe tbody tr th {\n",
       "        vertical-align: top;\n",
       "    }\n",
       "</style>\n",
       "<table border=\"1\" class=\"dataframe\">\n",
       "  <thead>\n",
       "    <tr style=\"text-align: right;\">\n",
       "      <th></th>\n",
       "      <th>PassengerId</th>\n",
       "      <th>Survived</th>\n",
       "      <th>Pclass</th>\n",
       "      <th>Name</th>\n",
       "      <th>Sex</th>\n",
       "      <th>Age</th>\n",
       "      <th>SibSp</th>\n",
       "      <th>Parch</th>\n",
       "      <th>Ticket</th>\n",
       "      <th>Fare</th>\n",
       "      <th>Cabin</th>\n",
       "      <th>Embarked</th>\n",
       "      <th>AgeDecade</th>\n",
       "    </tr>\n",
       "  </thead>\n",
       "  <tbody>\n",
       "    <tr>\n",
       "      <th>0</th>\n",
       "      <td>1</td>\n",
       "      <td>0</td>\n",
       "      <td>3</td>\n",
       "      <td>Braund, Mr. Owen Harris</td>\n",
       "      <td>male</td>\n",
       "      <td>22.0</td>\n",
       "      <td>1</td>\n",
       "      <td>0</td>\n",
       "      <td>A/5 21171</td>\n",
       "      <td>7.2500</td>\n",
       "      <td>NaN</td>\n",
       "      <td>S</td>\n",
       "      <td>2.0</td>\n",
       "    </tr>\n",
       "    <tr>\n",
       "      <th>1</th>\n",
       "      <td>2</td>\n",
       "      <td>1</td>\n",
       "      <td>1</td>\n",
       "      <td>Cumings, Mrs. John Bradley (Florence Briggs Th...</td>\n",
       "      <td>female</td>\n",
       "      <td>38.0</td>\n",
       "      <td>1</td>\n",
       "      <td>0</td>\n",
       "      <td>PC 17599</td>\n",
       "      <td>71.2833</td>\n",
       "      <td>C85</td>\n",
       "      <td>C</td>\n",
       "      <td>3.0</td>\n",
       "    </tr>\n",
       "    <tr>\n",
       "      <th>2</th>\n",
       "      <td>3</td>\n",
       "      <td>1</td>\n",
       "      <td>3</td>\n",
       "      <td>Heikkinen, Miss. Laina</td>\n",
       "      <td>female</td>\n",
       "      <td>26.0</td>\n",
       "      <td>0</td>\n",
       "      <td>0</td>\n",
       "      <td>STON/O2. 3101282</td>\n",
       "      <td>7.9250</td>\n",
       "      <td>NaN</td>\n",
       "      <td>S</td>\n",
       "      <td>2.0</td>\n",
       "    </tr>\n",
       "    <tr>\n",
       "      <th>3</th>\n",
       "      <td>4</td>\n",
       "      <td>1</td>\n",
       "      <td>1</td>\n",
       "      <td>Futrelle, Mrs. Jacques Heath (Lily May Peel)</td>\n",
       "      <td>female</td>\n",
       "      <td>35.0</td>\n",
       "      <td>1</td>\n",
       "      <td>0</td>\n",
       "      <td>113803</td>\n",
       "      <td>53.1000</td>\n",
       "      <td>C123</td>\n",
       "      <td>S</td>\n",
       "      <td>3.0</td>\n",
       "    </tr>\n",
       "    <tr>\n",
       "      <th>4</th>\n",
       "      <td>5</td>\n",
       "      <td>0</td>\n",
       "      <td>3</td>\n",
       "      <td>Allen, Mr. William Henry</td>\n",
       "      <td>male</td>\n",
       "      <td>35.0</td>\n",
       "      <td>0</td>\n",
       "      <td>0</td>\n",
       "      <td>373450</td>\n",
       "      <td>8.0500</td>\n",
       "      <td>NaN</td>\n",
       "      <td>S</td>\n",
       "      <td>3.0</td>\n",
       "    </tr>\n",
       "  </tbody>\n",
       "</table>\n",
       "</div>"
      ],
      "text/plain": [
       "   PassengerId  Survived  Pclass  \\\n",
       "0            1         0       3   \n",
       "1            2         1       1   \n",
       "2            3         1       3   \n",
       "3            4         1       1   \n",
       "4            5         0       3   \n",
       "\n",
       "                                                Name     Sex   Age  SibSp  \\\n",
       "0                            Braund, Mr. Owen Harris    male  22.0      1   \n",
       "1  Cumings, Mrs. John Bradley (Florence Briggs Th...  female  38.0      1   \n",
       "2                             Heikkinen, Miss. Laina  female  26.0      0   \n",
       "3       Futrelle, Mrs. Jacques Heath (Lily May Peel)  female  35.0      1   \n",
       "4                           Allen, Mr. William Henry    male  35.0      0   \n",
       "\n",
       "   Parch            Ticket     Fare Cabin Embarked  AgeDecade  \n",
       "0      0         A/5 21171   7.2500   NaN        S        2.0  \n",
       "1      0          PC 17599  71.2833   C85        C        3.0  \n",
       "2      0  STON/O2. 3101282   7.9250   NaN        S        2.0  \n",
       "3      0            113803  53.1000  C123        S        3.0  \n",
       "4      0            373450   8.0500   NaN        S        3.0  "
      ]
     },
     "execution_count": 168,
     "metadata": {},
     "output_type": "execute_result"
    }
   ],
   "source": [
    "titanic.head()"
   ]
  },
  {
   "cell_type": "markdown",
   "metadata": {},
   "source": [
    "## Questions\n",
    "\n",
    "Let's tackle all the questions one by one. As I went ahead with the analysis, I added more questions to the notebook at the right places. I've tried to make all the plots and summaries answer some or the other question.\n",
    "\n",
    "Bear in mind that in Python, booleans are (True == 1 and False == 0). **Also, just for this dataset, since \"Survived\" is marked as 1 for survived, and 0 for not survived, the mean of this variable will give the proportion of survived people. This is just a programming trick.**"
   ]
  },
  {
   "cell_type": "code",
   "execution_count": 8,
   "metadata": {},
   "outputs": [
    {
     "data": {
      "text/plain": [
       "True"
      ]
     },
     "execution_count": 8,
     "metadata": {},
     "output_type": "execute_result"
    }
   ],
   "source": [
    "True == 1"
   ]
  },
  {
   "cell_type": "code",
   "execution_count": 9,
   "metadata": {},
   "outputs": [
    {
     "data": {
      "text/plain": [
       "True"
      ]
     },
     "execution_count": 9,
     "metadata": {},
     "output_type": "execute_result"
    }
   ],
   "source": [
    "False == 0"
   ]
  },
  {
   "cell_type": "markdown",
   "metadata": {},
   "source": [
    "### Does age influence your survival chances?"
   ]
  },
  {
   "cell_type": "code",
   "execution_count": 240,
   "metadata": {},
   "outputs": [
    {
     "data": {
      "text/plain": [
       "<matplotlib.axes._subplots.AxesSubplot at 0x130751b90>"
      ]
     },
     "execution_count": 240,
     "metadata": {},
     "output_type": "execute_result"
    },
    {
     "data": {
      "image/png": "[encoded data removed]",
      "text/plain": [
       "<matplotlib.figure.Figure at 0x1305ff290>"
      ]
     },
     "metadata": {},
     "output_type": "display_data"
    }
   ],
   "source": [
    "plot_with_labels(\n",
    "    sns.violinplot(x=titanic['Survived'], y=titanic['AgeDecade']),\n",
    "    xlabel='Not survived = 0, Survived = 1',\n",
    "    ylabel='AgeDecade (0 = 0-9yrs, 1 = 10-19yrs, ...)',\n",
    "    title='Distribution of AgeDecade of survivors vs. non survivors'\n",
    ")"
   ]
  },
  {
   "cell_type": "code",
   "execution_count": 171,
   "metadata": {},
   "outputs": [
    {
     "data": {
      "text/html": [
       "<div>\n",
       "<style>\n",
       "    .dataframe thead tr:only-child th {\n",
       "        text-align: right;\n",
       "    }\n",
       "\n",
       "    .dataframe thead th {\n",
       "        text-align: left;\n",
       "    }\n",
       "\n",
       "    .dataframe tbody tr th {\n",
       "        vertical-align: top;\n",
       "    }\n",
       "</style>\n",
       "<table border=\"1\" class=\"dataframe\">\n",
       "  <thead>\n",
       "    <tr>\n",
       "      <th></th>\n",
       "      <th colspan=\"3\" halign=\"left\">Survived</th>\n",
       "    </tr>\n",
       "    <tr>\n",
       "      <th></th>\n",
       "      <th>count</th>\n",
       "      <th>sum</th>\n",
       "      <th>mean</th>\n",
       "    </tr>\n",
       "    <tr>\n",
       "      <th>AgeDecade</th>\n",
       "      <th></th>\n",
       "      <th></th>\n",
       "      <th></th>\n",
       "    </tr>\n",
       "  </thead>\n",
       "  <tbody>\n",
       "    <tr>\n",
       "      <th>0.0</th>\n",
       "      <td>62</td>\n",
       "      <td>38</td>\n",
       "      <td>0.612903</td>\n",
       "    </tr>\n",
       "    <tr>\n",
       "      <th>1.0</th>\n",
       "      <td>102</td>\n",
       "      <td>41</td>\n",
       "      <td>0.401961</td>\n",
       "    </tr>\n",
       "    <tr>\n",
       "      <th>2.0</th>\n",
       "      <td>220</td>\n",
       "      <td>77</td>\n",
       "      <td>0.350000</td>\n",
       "    </tr>\n",
       "    <tr>\n",
       "      <th>3.0</th>\n",
       "      <td>167</td>\n",
       "      <td>73</td>\n",
       "      <td>0.437126</td>\n",
       "    </tr>\n",
       "    <tr>\n",
       "      <th>4.0</th>\n",
       "      <td>89</td>\n",
       "      <td>34</td>\n",
       "      <td>0.382022</td>\n",
       "    </tr>\n",
       "    <tr>\n",
       "      <th>5.0</th>\n",
       "      <td>48</td>\n",
       "      <td>20</td>\n",
       "      <td>0.416667</td>\n",
       "    </tr>\n",
       "    <tr>\n",
       "      <th>6.0</th>\n",
       "      <td>19</td>\n",
       "      <td>6</td>\n",
       "      <td>0.315789</td>\n",
       "    </tr>\n",
       "    <tr>\n",
       "      <th>7.0</th>\n",
       "      <td>6</td>\n",
       "      <td>0</td>\n",
       "      <td>0.000000</td>\n",
       "    </tr>\n",
       "    <tr>\n",
       "      <th>8.0</th>\n",
       "      <td>1</td>\n",
       "      <td>1</td>\n",
       "      <td>1.000000</td>\n",
       "    </tr>\n",
       "  </tbody>\n",
       "</table>\n",
       "</div>"
      ],
      "text/plain": [
       "          Survived              \n",
       "             count sum      mean\n",
       "AgeDecade                       \n",
       "0.0             62  38  0.612903\n",
       "1.0            102  41  0.401961\n",
       "2.0            220  77  0.350000\n",
       "3.0            167  73  0.437126\n",
       "4.0             89  34  0.382022\n",
       "5.0             48  20  0.416667\n",
       "6.0             19   6  0.315789\n",
       "7.0              6   0  0.000000\n",
       "8.0              1   1  1.000000"
      ]
     },
     "execution_count": 171,
     "metadata": {},
     "output_type": "execute_result"
    }
   ],
   "source": [
    "titanic.groupby('AgeDecade').agg({'Survived': ['count', 'sum', 'mean']})"
   ]
  },
  {
   "cell_type": "markdown",
   "metadata": {},
   "source": [
    "#### Conclusion\n",
    "\n",
    "1. The survival rate is highest for children (ages 0 to 9).\n",
    "1. Then, it remains close to 40%, except for when it drops by 10% for people in their 60s."
   ]
  },
  {
   "cell_type": "markdown",
   "metadata": {},
   "source": [
    "### Is the survival rate of men & women disproprotionate?\n",
    "\n",
    "Did people of a particular gender survive more than the other?"
   ]
  },
  {
   "cell_type": "code",
   "execution_count": 244,
   "metadata": {},
   "outputs": [
    {
     "data": {
      "text/plain": [
       "<matplotlib.axes._subplots.AxesSubplot at 0x12fa15050>"
      ]
     },
     "execution_count": 244,
     "metadata": {},
     "output_type": "execute_result"
    },
    {
     "data": {
      "image/png": "[encoded data removed]",
      "text/plain": [
       "<matplotlib.figure.Figure at 0x12fa31050>"
      ]
     },
     "metadata": {},
     "output_type": "display_data"
    }
   ],
   "source": [
    "plot_with_labels(\n",
    "    titanic.groupby('Sex').agg({'Survived': ['count', 'sum']}).plot(kind='bar'),\n",
    "    ylabel='No. of passengers',\n",
    "    legend=['Total passengers', 'Survivors'],\n",
    "    title='Total no. of passengers and survivors by gender'\n",
    ")"
   ]
  },
  {
   "cell_type": "markdown",
   "metadata": {},
   "source": [
    "More males were onboard than females. As we see below, women comprised of about 35%. However, we also observe the following two facts:\n",
    "\n",
    "1. The absolute number of female survivors is greater than the absolute number of male survivors. This is despite males comprising of 65% of the people onboard.\n",
    "1. The proportion of females surviving is greater than males. We'll look into proportions in the next graph."
   ]
  },
  {
   "cell_type": "code",
   "execution_count": 83,
   "metadata": {},
   "outputs": [
    {
     "data": {
      "text/html": [
       "<div>\n",
       "<style>\n",
       "    .dataframe thead tr:only-child th {\n",
       "        text-align: right;\n",
       "    }\n",
       "\n",
       "    .dataframe thead th {\n",
       "        text-align: left;\n",
       "    }\n",
       "\n",
       "    .dataframe tbody tr th {\n",
       "        vertical-align: top;\n",
       "    }\n",
       "</style>\n",
       "<table border=\"1\" class=\"dataframe\">\n",
       "  <thead>\n",
       "    <tr>\n",
       "      <th></th>\n",
       "      <th>PassengerId</th>\n",
       "      <th>proportion</th>\n",
       "    </tr>\n",
       "    <tr>\n",
       "      <th></th>\n",
       "      <th>count</th>\n",
       "      <th></th>\n",
       "    </tr>\n",
       "    <tr>\n",
       "      <th>Sex</th>\n",
       "      <th></th>\n",
       "      <th></th>\n",
       "    </tr>\n",
       "  </thead>\n",
       "  <tbody>\n",
       "    <tr>\n",
       "      <th>female</th>\n",
       "      <td>314</td>\n",
       "      <td>0.352413</td>\n",
       "    </tr>\n",
       "    <tr>\n",
       "      <th>male</th>\n",
       "      <td>577</td>\n",
       "      <td>0.647587</td>\n",
       "    </tr>\n",
       "  </tbody>\n",
       "</table>\n",
       "</div>"
      ],
      "text/plain": [
       "       PassengerId proportion\n",
       "             count           \n",
       "Sex                          \n",
       "female         314   0.352413\n",
       "male           577   0.647587"
      ]
     },
     "execution_count": 83,
     "metadata": {},
     "output_type": "execute_result"
    }
   ],
   "source": [
    "male_vs_female_count = titanic[['PassengerId', 'Sex']].groupby('Sex').agg(['count'])\n",
    "male_vs_female_count['proportion'] = male_vs_female_count['PassengerId'] / male_vs_female_count.sum()['PassengerId']\n",
    "\n",
    "male_vs_female_count"
   ]
  },
  {
   "cell_type": "code",
   "execution_count": 243,
   "metadata": {},
   "outputs": [
    {
     "data": {
      "text/plain": [
       "<matplotlib.axes._subplots.AxesSubplot at 0x1307a92d0>"
      ]
     },
     "execution_count": 243,
     "metadata": {},
     "output_type": "execute_result"
    },
    {
     "data": {
      "image/png": "[encoded data removed]",
      "text/plain": [
       "<matplotlib.figure.Figure at 0x1309d9650>"
      ]
     },
     "metadata": {},
     "output_type": "display_data"
    }
   ],
   "source": [
    "plot_with_labels(\n",
    "    titanic.groupby('Sex').agg({'Survived': ['mean']}).plot(kind='bar'),\n",
    "    ylabel='Proportion of survivors',\n",
    "    legend='',\n",
    "    title='Proportion of passengers who survived by gender'\n",
    ")"
   ]
  },
  {
   "cell_type": "code",
   "execution_count": 84,
   "metadata": {},
   "outputs": [
    {
     "data": {
      "text/html": [
       "<div>\n",
       "<style>\n",
       "    .dataframe thead tr:only-child th {\n",
       "        text-align: right;\n",
       "    }\n",
       "\n",
       "    .dataframe thead th {\n",
       "        text-align: left;\n",
       "    }\n",
       "\n",
       "    .dataframe tbody tr th {\n",
       "        vertical-align: top;\n",
       "    }\n",
       "</style>\n",
       "<table border=\"1\" class=\"dataframe\">\n",
       "  <thead>\n",
       "    <tr>\n",
       "      <th></th>\n",
       "      <th>Survived</th>\n",
       "    </tr>\n",
       "    <tr>\n",
       "      <th></th>\n",
       "      <th>mean</th>\n",
       "    </tr>\n",
       "    <tr>\n",
       "      <th>Sex</th>\n",
       "      <th></th>\n",
       "    </tr>\n",
       "  </thead>\n",
       "  <tbody>\n",
       "    <tr>\n",
       "      <th>female</th>\n",
       "      <td>0.742038</td>\n",
       "    </tr>\n",
       "    <tr>\n",
       "      <th>male</th>\n",
       "      <td>0.188908</td>\n",
       "    </tr>\n",
       "  </tbody>\n",
       "</table>\n",
       "</div>"
      ],
      "text/plain": [
       "        Survived\n",
       "            mean\n",
       "Sex             \n",
       "female  0.742038\n",
       "male    0.188908"
      ]
     },
     "execution_count": 84,
     "metadata": {},
     "output_type": "execute_result"
    }
   ],
   "source": [
    "titanic.groupby('Sex').agg({'Survived': ['mean']})"
   ]
  },
  {
   "cell_type": "markdown",
   "metadata": {},
   "source": [
    "#### Conclusion"
   ]
  },
  {
   "cell_type": "markdown",
   "metadata": {},
   "source": [
    "As we can see, 74% of the women survived, while only 18% of the men survived. Considering the fact that women also had larger absolute numbers than the men who survived, there is a strong possibility of external influence. People could have helped women and children get to safety first.\n",
    "\n",
    "However, we've only established a correlation, not causation."
   ]
  },
  {
   "cell_type": "markdown",
   "metadata": {},
   "source": [
    "### Does being in the upper socio-economic status (SES) increase survival chances, because of some additional privileges/facilities given to them?\n",
    "\n",
    "Since Pclass is a categorical variable (0,1,2), I added a new column \"IsPclassUpper\" which is True for Pclass=1, and False otherwise."
   ]
  },
  {
   "cell_type": "code",
   "execution_count": 245,
   "metadata": {},
   "outputs": [
    {
     "data": {
      "text/plain": [
       "<matplotlib.axes._subplots.AxesSubplot at 0x12f7fd890>"
      ]
     },
     "execution_count": 245,
     "metadata": {},
     "output_type": "execute_result"
    },
    {
     "data": {
      "image/png": "[encoded data removed]",
      "text/plain": [
       "<matplotlib.figure.Figure at 0x12fa0a7d0>"
      ]
     },
     "metadata": {},
     "output_type": "display_data"
    }
   ],
   "source": [
    "plot_with_labels(\n",
    "    titanic.groupby('IsPclassUpper').agg({'Survived': ['count', 'sum']}).plot(kind='bar'),\n",
    "    xlabel='Is upper class (Class = 1)',\n",
    "    ylabel='No. of passengers',\n",
    "    legend=['Total passengers', 'Survivors'],\n",
    "    title='Total no. of passengers and survivors by IsUpperClass'\n",
    ")"
   ]
  },
  {
   "cell_type": "markdown",
   "metadata": {},
   "source": [
    "It is not surprising that there are less upper class people on board than their counterparts. The following things are visible:\n",
    "\n",
    "1. The absolute number of non-upper class survivors are more than the upper class. This is in contrast to the gender case. Thus, I couldn't draw any signficant conclusion just on this factor.\n",
    "1. The proportion of upper class survivors looks more than 50%, while the non-upper class is very low. I'll analyse the exact proportions in the next plot."
   ]
  },
  {
   "cell_type": "code",
   "execution_count": 246,
   "metadata": {},
   "outputs": [
    {
     "data": {
      "text/plain": [
       "<matplotlib.axes._subplots.AxesSubplot at 0x12d9f2490>"
      ]
     },
     "execution_count": 246,
     "metadata": {},
     "output_type": "execute_result"
    },
    {
     "data": {
      "image/png": "[encoded data removed]",
      "text/plain": [
       "<matplotlib.figure.Figure at 0x12da06250>"
      ]
     },
     "metadata": {},
     "output_type": "display_data"
    }
   ],
   "source": [
    "plot_with_labels(\n",
    "    titanic.groupby('IsPclassUpper').agg({'Survived': ['mean']}).plot(kind='bar'),\n",
    "    xlabel='Is upper class (Class = 1)',\n",
    "    ylabel='Proportion of survivors',\n",
    "    legend='',\n",
    "    title='Proportion of survivors by IsUpperClass'\n",
    ")"
   ]
  },
  {
   "cell_type": "code",
   "execution_count": 92,
   "metadata": {},
   "outputs": [
    {
     "data": {
      "text/html": [
       "<div>\n",
       "<style>\n",
       "    .dataframe thead tr:only-child th {\n",
       "        text-align: right;\n",
       "    }\n",
       "\n",
       "    .dataframe thead th {\n",
       "        text-align: left;\n",
       "    }\n",
       "\n",
       "    .dataframe tbody tr th {\n",
       "        vertical-align: top;\n",
       "    }\n",
       "</style>\n",
       "<table border=\"1\" class=\"dataframe\">\n",
       "  <thead>\n",
       "    <tr>\n",
       "      <th></th>\n",
       "      <th>Survived</th>\n",
       "    </tr>\n",
       "    <tr>\n",
       "      <th></th>\n",
       "      <th>mean</th>\n",
       "    </tr>\n",
       "    <tr>\n",
       "      <th>IsPclassUpper</th>\n",
       "      <th></th>\n",
       "    </tr>\n",
       "  </thead>\n",
       "  <tbody>\n",
       "    <tr>\n",
       "      <th>False</th>\n",
       "      <td>0.305185</td>\n",
       "    </tr>\n",
       "    <tr>\n",
       "      <th>True</th>\n",
       "      <td>0.629630</td>\n",
       "    </tr>\n",
       "  </tbody>\n",
       "</table>\n",
       "</div>"
      ],
      "text/plain": [
       "               Survived\n",
       "                   mean\n",
       "IsPclassUpper          \n",
       "False          0.305185\n",
       "True           0.629630"
      ]
     },
     "execution_count": 92,
     "metadata": {},
     "output_type": "execute_result"
    }
   ],
   "source": [
    "titanic.groupby('IsPclassUpper').agg({'Survived': ['mean']})"
   ]
  },
  {
   "cell_type": "markdown",
   "metadata": {},
   "source": [
    "Not surprisingly, almost 63% of the upper class people survived. Only 30% of the non-upper class people survived."
   ]
  },
  {
   "cell_type": "markdown",
   "metadata": {},
   "source": [
    "#### Conclusion\n",
    "\n",
    "We observe a positive correlation between being upper class and survival. Causation is not implied, only correlation. With more domain knowledge, we can pin-point if there's a causation."
   ]
  },
  {
   "cell_type": "markdown",
   "metadata": {},
   "source": [
    "### Are survival rates of females (which we established were higher than males) similar between upper and non-upper class passengers?\n",
    "\n",
    "This question is to further investigate the effect of gender. By looking at both SES and gender, we see if the people of the same gender received similar treatments regardless of SES."
   ]
  },
  {
   "cell_type": "code",
   "execution_count": 247,
   "metadata": {},
   "outputs": [
    {
     "data": {
      "text/plain": [
       "<matplotlib.axes._subplots.AxesSubplot at 0x12fa58fd0>"
      ]
     },
     "execution_count": 247,
     "metadata": {},
     "output_type": "execute_result"
    },
    {
     "data": {
      "image/png": "[encoded data removed]",
      "text/plain": [
       "<matplotlib.figure.Figure at 0x12da79610>"
      ]
     },
     "metadata": {},
     "output_type": "display_data"
    }
   ],
   "source": [
    "plot_with_labels(\n",
    "    titanic.groupby(['Sex', 'IsPclassUpper']).agg({'Survived': ['count', 'sum']}).plot(kind='bar'),\n",
    "    xlabel='Sex, Is Upper Class (Class = 1)',\n",
    "    ylabel='No. of passengers',\n",
    "    legend=['Total passengers', 'Survivors'],\n",
    "    title='Total passengers and survivors by Sex and IsUpperClass'\n",
    ")"
   ]
  },
  {
   "cell_type": "markdown",
   "metadata": {},
   "source": [
    "The observations are curious:\n",
    "\n",
    "1. Almost all female upper class people seem to have survived.\n",
    "1. The absolute no. of upper class survivors are less than the non-upper class counterparts. This was a bit surprising.\n",
    "\n",
    "Let's look at the proportions more closely."
   ]
  },
  {
   "cell_type": "code",
   "execution_count": 248,
   "metadata": {},
   "outputs": [
    {
     "data": {
      "text/plain": [
       "<matplotlib.axes._subplots.AxesSubplot at 0x12d00a150>"
      ]
     },
     "execution_count": 248,
     "metadata": {},
     "output_type": "execute_result"
    },
    {
     "data": {
      "image/png": "[encoded data removed]",
      "text/plain": [
       "<matplotlib.figure.Figure at 0x12cc0a9d0>"
      ]
     },
     "metadata": {},
     "output_type": "display_data"
    }
   ],
   "source": [
    "plot_with_labels(\n",
    "    titanic.groupby(['Sex', 'IsPclassUpper']).agg({'Survived': ['mean']}).plot(kind='bar'),\n",
    "    xlabel='Sex, Is Upper Class (Class = 1)',\n",
    "    ylabel='Proportion of passengers',\n",
    "    legend='',\n",
    "    title='Proportion of survivors by Sex and IsUpperClass'\n",
    ")"
   ]
  },
  {
   "cell_type": "code",
   "execution_count": 95,
   "metadata": {},
   "outputs": [
    {
     "data": {
      "text/html": [
       "<div>\n",
       "<style>\n",
       "    .dataframe thead tr:only-child th {\n",
       "        text-align: right;\n",
       "    }\n",
       "\n",
       "    .dataframe thead th {\n",
       "        text-align: left;\n",
       "    }\n",
       "\n",
       "    .dataframe tbody tr th {\n",
       "        vertical-align: top;\n",
       "    }\n",
       "</style>\n",
       "<table border=\"1\" class=\"dataframe\">\n",
       "  <thead>\n",
       "    <tr>\n",
       "      <th></th>\n",
       "      <th></th>\n",
       "      <th>Survived</th>\n",
       "    </tr>\n",
       "    <tr>\n",
       "      <th></th>\n",
       "      <th></th>\n",
       "      <th>mean</th>\n",
       "    </tr>\n",
       "    <tr>\n",
       "      <th>Sex</th>\n",
       "      <th>IsPclassUpper</th>\n",
       "      <th></th>\n",
       "    </tr>\n",
       "  </thead>\n",
       "  <tbody>\n",
       "    <tr>\n",
       "      <th rowspan=\"2\" valign=\"top\">female</th>\n",
       "      <th>False</th>\n",
       "      <td>0.645455</td>\n",
       "    </tr>\n",
       "    <tr>\n",
       "      <th>True</th>\n",
       "      <td>0.968085</td>\n",
       "    </tr>\n",
       "    <tr>\n",
       "      <th rowspan=\"2\" valign=\"top\">male</th>\n",
       "      <th>False</th>\n",
       "      <td>0.140659</td>\n",
       "    </tr>\n",
       "    <tr>\n",
       "      <th>True</th>\n",
       "      <td>0.368852</td>\n",
       "    </tr>\n",
       "  </tbody>\n",
       "</table>\n",
       "</div>"
      ],
      "text/plain": [
       "                      Survived\n",
       "                          mean\n",
       "Sex    IsPclassUpper          \n",
       "female False          0.645455\n",
       "       True           0.968085\n",
       "male   False          0.140659\n",
       "       True           0.368852"
      ]
     },
     "execution_count": 95,
     "metadata": {},
     "output_type": "execute_result"
    }
   ],
   "source": [
    "titanic.groupby(['Sex', 'IsPclassUpper']).agg({'Survived': ['mean']})"
   ]
  },
  {
   "cell_type": "markdown",
   "metadata": {},
   "source": [
    "#### Conclusion\n",
    "\n",
    "1. More females survived in both SES.\n",
    "1. The survival of females in the upper class is spectacularly high.\n",
    "1. Although proportion of upper class men who survived is more than the non-upper class men, the absolute numbers are comparable. It seems that being upper class didn't give men any distinct advantage for survival."
   ]
  },
  {
   "cell_type": "markdown",
   "metadata": {},
   "source": [
    "### Does being alone increase your chance of survival?\n",
    "\n",
    "There are two hypotheses here:\n",
    "1. Being alone, you could have a better chance of survival because you don't have to wait for anyone else.\n",
    "1. However, if you have someone you're depending on, he might have helped you at the cost of his life. This depends on the nature of the relationship.\n",
    "1. Since the dataset provides a Parch variable, which counts both parents and children, I hypothise that it's a bit difficult to use this variable. Had the children and parent count been separate, we could have hypthesised that children would survive at the cost of the parents.\n",
    "\n",
    "Let's now look at the data to see what story it tells us. Here, we introduce a new column called \"HasFamily\", which is true if the passenger has either SibSp or Parch."
   ]
  },
  {
   "cell_type": "code",
   "execution_count": 249,
   "metadata": {},
   "outputs": [
    {
     "data": {
      "text/plain": [
       "<matplotlib.axes._subplots.AxesSubplot at 0x12cec1b10>"
      ]
     },
     "execution_count": 249,
     "metadata": {},
     "output_type": "execute_result"
    },
    {
     "data": {
      "image/png": "[encoded data removed]",
      "text/plain": [
       "<matplotlib.figure.Figure at 0x12d8c90d0>"
      ]
     },
     "metadata": {},
     "output_type": "display_data"
    }
   ],
   "source": [
    "plot_with_labels(\n",
    "    titanic.groupby(['HasFamily']).agg({'Survived': ['count', 'sum']}).plot(kind='bar'),\n",
    "    xlabel='HasFamily',\n",
    "    ylabel='No. of passengers',\n",
    "    legend=['No. of passengers', 'Survivors'],\n",
    "    title='Total no. of passengers and survivors by HasFamily'\n",
    ")"
   ]
  },
  {
   "cell_type": "markdown",
   "metadata": {},
   "source": [
    "A lot more people travelled without family. However:\n",
    "\n",
    "1. The absolute number of survivors with family is slightly greater than the alone ones.\n",
    "1. Although a greater proportion of family people survived, it is extremely curious that the absolute survivors in both groups are so close by."
   ]
  },
  {
   "cell_type": "markdown",
   "metadata": {},
   "source": [
    "### Conclusion\n",
    "\n",
    "1. Yes, just statistically speaking, there's a positive correlation between being with family and surviving. Although we can't imply causality."
   ]
  },
  {
   "cell_type": "markdown",
   "metadata": {},
   "source": [
    "### What was the survival rate of people with children? What if you had a sibling?\n",
    "\n",
    "We look deeper into the survival of people with families."
   ]
  },
  {
   "cell_type": "code",
   "execution_count": 250,
   "metadata": {},
   "outputs": [
    {
     "data": {
      "text/plain": [
       "<matplotlib.axes._subplots.AxesSubplot at 0x1308afd90>"
      ]
     },
     "execution_count": 250,
     "metadata": {},
     "output_type": "execute_result"
    },
    {
     "data": {
      "image/png": "[encoded data removed]",
      "text/plain": [
       "<matplotlib.figure.Figure at 0x12d861490>"
      ]
     },
     "metadata": {},
     "output_type": "display_data"
    }
   ],
   "source": [
    "plot_with_labels(\n",
    "    titanic[titanic['Parch'] > 0].groupby(['Parch']).agg({'Survived': ['count', 'sum']}).plot(kind='bar'),\n",
    "    xlabel='Parch - No. of parents/children',\n",
    "    ylabel='No. of passengers',\n",
    "    legend=['No. of passengers', 'Survivors'],\n",
    "    title='Total no. of passengers and survivors by Parch'\n",
    ")"
   ]
  },
  {
   "cell_type": "code",
   "execution_count": 251,
   "metadata": {},
   "outputs": [
    {
     "data": {
      "text/plain": [
       "<matplotlib.axes._subplots.AxesSubplot at 0x12da66050>"
      ]
     },
     "execution_count": 251,
     "metadata": {},
     "output_type": "execute_result"
    },
    {
     "data": {
      "image/png": "[encoded data removed]",
      "text/plain": [
       "<matplotlib.figure.Figure at 0x12c4866d0>"
      ]
     },
     "metadata": {},
     "output_type": "display_data"
    }
   ],
   "source": [
    "plot_with_labels(\n",
    "    titanic[titanic['Parch'] > 0].groupby(['Parch']).agg({'Survived': ['mean']}).plot(kind='bar'),\n",
    "    xlabel='Parch - No. of parents/children',\n",
    "    ylabel='Proportion of passengers',\n",
    "    legend='',\n",
    "    title='Proportion of survivors by Parch'\n",
    ")"
   ]
  },
  {
   "cell_type": "markdown",
   "metadata": {},
   "source": [
    "#### Conclusion\n",
    "\n",
    "1. Larger families (parent/children relationship) are negatively correlated with survival."
   ]
  },
  {
   "cell_type": "code",
   "execution_count": 252,
   "metadata": {},
   "outputs": [
    {
     "data": {
      "text/plain": [
       "<matplotlib.axes._subplots.AxesSubplot at 0x130e33090>"
      ]
     },
     "execution_count": 252,
     "metadata": {},
     "output_type": "execute_result"
    },
    {
     "data": {
      "image/png": "[encoded data removed]",
      "text/plain": [
       "<matplotlib.figure.Figure at 0x12ce3bb50>"
      ]
     },
     "metadata": {},
     "output_type": "display_data"
    }
   ],
   "source": [
    "plot_with_labels(\n",
    "    titanic[titanic['SibSp'] > 0].groupby(['SibSp']).agg({'Survived': ['count', 'sum']}).plot(kind='bar'),\n",
    "    xlabel='SibSp - No. of siblings/spouse',\n",
    "    ylabel='No. of passengers',\n",
    "    legend=['Total passengers', 'Survivors'],\n",
    "    title='Total no. of passengers and survivors by SibSp'\n",
    ")"
   ]
  },
  {
   "cell_type": "code",
   "execution_count": 253,
   "metadata": {},
   "outputs": [
    {
     "data": {
      "text/plain": [
       "<matplotlib.axes._subplots.AxesSubplot at 0x130f8a110>"
      ]
     },
     "execution_count": 253,
     "metadata": {},
     "output_type": "execute_result"
    },
    {
     "data": {
      "image/png": "[encoded data removed]",
      "text/plain": [
       "<matplotlib.figure.Figure at 0x130f62750>"
      ]
     },
     "metadata": {},
     "output_type": "display_data"
    }
   ],
   "source": [
    "plot_with_labels(\n",
    "    titanic[titanic['SibSp'] > 0].groupby(['SibSp']).agg({'Survived': ['mean']}).plot(kind='bar'),\n",
    "    xlabel='SibSp - No. of siblings/spouse',\n",
    "    ylabel='Proportion of passengers',\n",
    "    legend='',\n",
    "    title='Proportion of survivors by SibSp'\n",
    ")"
   ]
  },
  {
   "cell_type": "markdown",
   "metadata": {},
   "source": [
    "#### Conclusion\n",
    "\n",
    "1. The survival rate has negative correlation with the number of siblings."
   ]
  },
  {
   "cell_type": "markdown",
   "metadata": {},
   "source": [
    "### Did female siblings survive more than male siblings?"
   ]
  },
  {
   "cell_type": "code",
   "execution_count": 254,
   "metadata": {},
   "outputs": [
    {
     "data": {
      "text/plain": [
       "<matplotlib.axes._subplots.AxesSubplot at 0x130e50450>"
      ]
     },
     "execution_count": 254,
     "metadata": {},
     "output_type": "execute_result"
    },
    {
     "data": {
      "image/png": "[encoded data removed]",
      "text/plain": [
       "<matplotlib.figure.Figure at 0x130f47ed0>"
      ]
     },
     "metadata": {},
     "output_type": "display_data"
    }
   ],
   "source": [
    "plot_with_labels(\n",
    "    titanic[titanic['SibSp'] > 0].groupby(['SibSp', 'Sex']).agg({'Survived': ['count', 'sum']}).plot(kind='bar'),\n",
    "    xlabel='SibSp, Sex',\n",
    "    ylabel='No. of passengers',\n",
    "    legend=['Total passengers', 'Survivors'],\n",
    "    title='No. of passengers and survivors by SibSp and Sex'\n",
    ")"
   ]
  },
  {
   "cell_type": "code",
   "execution_count": 255,
   "metadata": {},
   "outputs": [
    {
     "data": {
      "text/plain": [
       "<matplotlib.axes._subplots.AxesSubplot at 0x1312f1510>"
      ]
     },
     "execution_count": 255,
     "metadata": {},
     "output_type": "execute_result"
    },
    {
     "data": {
      "image/png": "[encoded data removed]",
      "text/plain": [
       "<matplotlib.figure.Figure at 0x131201b90>"
      ]
     },
     "metadata": {},
     "output_type": "display_data"
    }
   ],
   "source": [
    "plot_with_labels(\n",
    "    titanic[titanic['SibSp'] > 0].groupby(['SibSp', 'Sex']).agg({'Survived': ['mean']}).plot(kind='bar'),\n",
    "    xlabel='SibSp, Sex',\n",
    "    ylabel='Proportion of passengers',\n",
    "    legend='',\n",
    "    title='Proportion of passengers by SibSp and Sex'\n",
    ")"
   ]
  },
  {
   "cell_type": "markdown",
   "metadata": {},
   "source": [
    "#### Conclusion\n",
    "\n",
    "1. Up to the size of 2 siblings, females have very high survival rate (above 0.75).\n",
    "1. Even above 2 siblings, females survived a lot more than men."
   ]
  },
  {
   "cell_type": "markdown",
   "metadata": {},
   "source": [
    "## Final Conclusion\n",
    "\n",
    "1. In conclusion, the survivors were predominantly females, and within females, the upper class females.\n",
    "1. Males had lower and similar survival rates regardless of their class.\n",
    "1. The survival rate also decreased as the number of siblings increased.\n",
    "1. More members of family survived than alone individuals.\n",
    "1. The proportion of upper class survivors were almost 63%, while non-upper class was just 30%. However, the absolute number of non-upper class survivors were greater.\n",
    "\n",
    "### Limitations\n",
    "\n",
    "#### Total no. of observations\n",
    "\n",
    "1. The real titanic had about 1,317 passengers. Our dataset has 891 rows. About 426 observations are missing, and can provide more insight, or contradictory insights, to what we have gotten so far.\n",
    "1. We are not sure how we got 891 observations from the total of 1317. We cannot assume that it's a random sample.\n",
    "\n",
    "#### No. of children, No. of parents separetely\n",
    "\n",
    "1. The dataset has a single variable `Parch` that gives the number of parents or number of children. However, it would have been useful to have them as separate variables.\n",
    "1. The hypothesis is that children could normally be helper even at the parents' expense, and the segregation would have helped analyse the hypothesis.\n",
    "\n",
    "#### Missing observations on Age\n",
    "\n",
    "1. Age has about 177 missing observations. Depending on how these missing values are distributed, it can give us a sharper insight on age's correlation with survival than what we already have.\n",
    "1. For example, those 177 missing values might be correlated to a specific class, age, or gender."
   ]
  },
  {
   "cell_type": "code",
   "execution_count": null,
   "metadata": {
    "collapsed": true
   },
   "outputs": [],
   "source": []
  }
 ],
 "metadata": {
  "kernelspec": {
   "display_name": "Python 2",
   "language": "python",
   "name": "python2"
  },
  "language_info": {
   "codemirror_mode": {
    "name": "ipython",
    "version": 2
   },
   "file_extension": ".py",
   "mimetype": "text/x-python",
   "name": "python",
   "nbconvert_exporter": "python",
   "pygments_lexer": "ipython2",
   "version": "2.7.13"
  },
  "toc": {
   "nav_menu": {},
   "number_sections": true,
   "sideBar": true,
   "skip_h1_title": true,
   "toc_cell": true,
   "toc_position": {},
   "toc_section_display": "block",
   "toc_window_display": false
  }
 },
 "nbformat": 4,
 "nbformat_minor": 2
}
